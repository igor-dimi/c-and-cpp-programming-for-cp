{
 "cells": [
  {
   "cell_type": "markdown",
   "id": "427f10b3",
   "metadata": {},
   "source": [
    "# Bilgisayar Olimpiyatlari Genel Bilgi\n",
    "\n",
    "Bilgisayar Olimpiyatlari nedir?\\ \n",
    "Bilgisayar Olimpiyatlari ne degildir? \n",
    "\n",
    "![Tubitak Sureci](tubitak-surec.png)\n",
    "\n",
    "## VS Code kurulumu\n",
    "\n",
    "[VS Code](https://code.visualstudio.com/) kurulumu \n",
    "\n",
    "- **windows**:\n",
    "- **linux**:\n",
    "\n",
    "\n",
    "## Derleyici Kurlumu\n",
    "\n",
    "cesitli bilgiler"
   ]
  }
 ],
 "metadata": {
  "jupytext": {
   "cell_metadata_filter": "-all",
   "formats": "md:myst",
   "text_representation": {
    "extension": ".md",
    "format_name": "myst",
    "format_version": 0.13,
    "jupytext_version": "1.11.5"
   }
  },
  "kernelspec": {
   "display_name": "Python 3",
   "language": "python",
   "name": "python3"
  },
  "language_info": {
   "codemirror_mode": {
    "name": "ipython",
    "version": 3
   },
   "file_extension": ".py",
   "mimetype": "text/x-python",
   "name": "python",
   "nbconvert_exporter": "python",
   "pygments_lexer": "ipython3",
   "version": "3.9.13"
  },
  "source_map": [
   14
  ]
 },
 "nbformat": 4,
 "nbformat_minor": 5
}